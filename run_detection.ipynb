{
 "cells": [
  {
   "cell_type": "code",
   "execution_count": null,
   "metadata": {},
   "outputs": [],
   "source": [
    "import numpy as np\n",
    "import pandas as pd\n",
    "import random\n",
    "import argparse\n",
    "from utils import wass_dist_computation, convert_score"
   ]
  },
  {
   "attachments": {},
   "cell_type": "markdown",
   "metadata": {},
   "source": [
    "# Creation of a synthetic example"
   ]
  },
  {
   "cell_type": "code",
   "execution_count": null,
   "metadata": {},
   "outputs": [],
   "source": [
    "def create_synthetic_attention_data_varying_lengths(num_samples, target_range, source_range):\n",
    "    data = []\n",
    "    for _ in range(num_samples):\n",
    "        target_len = random.randint(*target_range)\n",
    "        source_len = random.randint(*source_range)\n",
    "        attn_matrix = np.random.rand(target_len, source_len)\n",
    "        attn_matrix /= attn_matrix.sum()\n",
    "        mt_len = target_len\n",
    "        data.append({\"idx\": len(data), \"attn\": attn_matrix, \"mt_len\": mt_len})\n",
    "    return pd.DataFrame(data)\n",
    "\n",
    "dataset_stats = create_synthetic_attention_data_varying_lengths(1000, (10, 30), (10, 30))\n",
    "dataset_reference_stats = create_synthetic_attention_data_varying_lengths(100000, (10, 30), (10, 30))\n",
    "\n",
    "# Save the datasets to files\n",
    "dataset_stats.to_pickle(\"dataset_stats_varying_lengths.pkl\")\n",
    "dataset_reference_stats.to_pickle(\"dataset_reference_stats_varying_lengths.pkl\")"
   ]
  },
  {
   "cell_type": "code",
   "execution_count": null,
   "metadata": {},
   "outputs": [],
   "source": [
    "args = argparse.Namespace(\n",
    "    dataset_stats_path=\"dataset_stats_varying_lengths.pkl\",\n",
    "    dataset_reference_stats_path=\"dataset_reference_stats_varying_lengths.pkl\",\n",
    "    metric_space=\"uni\",\n",
    "    length_window=10.0,\n",
    "    compare_to_uni=True,\n",
    "    no_samples=100,\n",
    "    bottom_k=4,\n",
    "    seed=38\n",
    ")\n",
    "\n",
    "dataset_stats = pd.read_pickle(args.dataset_stats_path)\n",
    "dataset_reference_stats = pd.read_pickle(args.dataset_reference_stats_path)\n",
    "\n",
    "wasserstein_distances = wass_dist_computation(dataset_stats, dataset_reference_stats, args)\n",
    "# for wass-to-data (compare_to_uni=False), the shape of wasserstein_distances should be [len(dataset_stats), no_samples]; you can aggregate via bottom-k\n",
    "# e.g., wasserstein_distances = [np.mean(sorted(x_samp)[:args.bottom_k]) for x_samp in wasserstein_distances]\n",
    "\n",
    "# for wass-to-uni (compare_to_uni=True), the shape of wasserstein_distances should be [len(dataset_stats)]. No need to aggregate."
   ]
  },
  {
   "attachments": {},
   "cell_type": "markdown",
   "metadata": {},
   "source": [
    "# Replicate our results"
   ]
  },
  {
   "cell_type": "code",
   "execution_count": null,
   "metadata": {},
   "outputs": [],
   "source": [
    "dataset_stats = pd.read_pickle(\"/home/nunomg/ot-hallucination-detection/hallucinations_deen_w_stats_and_scores.pkl\")\n",
    "dataset_attn_reference = pd.read_pickle(\"/home/nunomg/ot-hallucination-detection/reference_set_deen.pkl\")\n",
    "dataset_attn_reference = dataset_attn_reference.loc[~dataset_attn_reference.src.isin(dataset_stats.src)] # remove samples from the reference set that are in the test set"
   ]
  },
  {
   "cell_type": "code",
   "execution_count": null,
   "metadata": {},
   "outputs": [],
   "source": [
    "# Replicate Wass-to-Data\n",
    "args = argparse.Namespace(\n",
    "    dataset_stats_path=\"dataset_stats_varying_lengths.pkl\",\n",
    "    dataset_reference_stats_path=\"dataset_reference_stats_varying_lengths.pkl\",\n",
    "    metric_space=\"l1\",\n",
    "    length_window=10.0,\n",
    "    compare_to_uni=False,\n",
    "    no_samples=1000,\n",
    "    bottom_k=4,\n",
    "    seed=38\n",
    ")\n",
    "\n",
    "# Replicate Wass-to-Uni\n",
    "# args = argparse.Namespace(\n",
    "#     dataset_stats_path=\"dataset_stats_varying_lengths.pkl\",\n",
    "#     dataset_reference_stats_path=\"dataset_reference_stats_varying_lengths.pkl\",\n",
    "#     metric_space=\"uni\",\n",
    "#     length_window=10.0,\n",
    "#     compare_to_uni=True,\n",
    "#     no_samples=1000,\n",
    "#     bottom_k=4,\n",
    "#     seed=38\n",
    "# )    "
   ]
  },
  {
   "cell_type": "code",
   "execution_count": null,
   "metadata": {},
   "outputs": [],
   "source": [
    "# Compute the Wasserstein distances\n",
    "wasserstein_distances = wass_dist_computation(dataset_stats, dataset_attn_reference, args)\n",
    "# aggregate the wasserstein distances via bottom-k\n",
    "if not args.compare_to_uni:\n",
    "    wass_dist_sorted = [sorted(x_samp) for x_samp in wasserstein_distances]\n",
    "    wass_dist_agg = [np.mean(x_samp[:args.bottom_k]) for x_samp in wass_dist_sorted]\n",
    "    dataset_stats[\"wass_to_data\"] = wass_dist_agg\n",
    "else:\n",
    "    dataset_stats[\"wass_to_data\"] = wasserstein_distances"
   ]
  },
  {
   "cell_type": "code",
   "execution_count": null,
   "metadata": {},
   "outputs": [],
   "source": [
    "# compute metrics \n",
    "from utils import compute_detection_metrics\n",
    "# compute detection metrics; you can also pass a list of metrics, e.g., [\"alti\", \"cometkiwi\"] -- just make sure to have the right sign for computation of AUROC and FPR@90TPR\n",
    "dataset_stats[\"labse\"] = -dataset_stats[\"labse\"]\n",
    "auroc_metrics = compute_detection_metrics(dataset_stats=dataset_stats, args=args, bottom_k=args.bottom_k, metrics=[\"labse\"]) \n",
    "auroc_metrics"
   ]
  },
  {
   "cell_type": "code",
   "execution_count": null,
   "metadata": {},
   "outputs": [],
   "source": [
    "# obtain wass_combo\n",
    "dataset_stats_w_wass = pd.read_pickle(\"data_heldout_for_thresholding.pkl\")\n",
    "uni_val_threshold = dataset_stats_w_wass.sort_values(by=\"wass_to_unif\", ascending=False)[:round(.001 * len(dataset_stats_w_wass))].wass_to_unif.values[-1]\n",
    "final_score = []\n",
    "\n",
    "max_val_wass_dist_mt = np.max(dataset_stats_w_wass.wass_to_data)\n",
    "min_val_wass_dist_mt = np.min(dataset_stats_w_wass.wass_to_data)\n",
    "max_val_wass_dist_uni = np.max(dataset_stats_w_wass.wass_to_unif)\n",
    "min_val_wass_dist_uni = np.min(dataset_stats_w_wass.wass_to_unif)\n",
    "for index in dataset_stats.index:\n",
    "    sample = dataset_stats.loc[index]\n",
    "    sample_len = len(sample.mt_ids)\n",
    "    if sample.wass_to_unif >= uni_val_threshold:\n",
    "        final_score_z = convert_score(sample.wass_to_unif, scores_old_min=min_val_wass_dist_uni, scores_old_max=max_val_wass_dist_uni, scores_new_min=min_val_wass_dist_mt, scores_new_max=max_val_wass_dist_mt)\n",
    "        final_score.append(final_score_z)\n",
    "    else:\n",
    "        final_score.append(sample.wass_to_data)\n",
    "dataset_stats[\"wass_combo\"] = final_score"
   ]
  },
  {
   "cell_type": "code",
   "execution_count": null,
   "metadata": {},
   "outputs": [],
   "source": [
    "auroc_metrics = compute_detection_metrics(dataset_stats=dataset_stats, args=args, bottom_k=args.bottom_k, metrics=[\"wass_to_data\"]) \n",
    "auroc_metrics"
   ]
  },
  {
   "cell_type": "code",
   "execution_count": null,
   "metadata": {},
   "outputs": [],
   "source": []
  },
  {
   "cell_type": "code",
   "execution_count": null,
   "metadata": {},
   "outputs": [],
   "source": []
  }
 ],
 "metadata": {
  "kernelspec": {
   "display_name": "llm-env",
   "language": "python",
   "name": "llm-env"
  },
  "language_info": {
   "codemirror_mode": {
    "name": "ipython",
    "version": 3
   },
   "file_extension": ".py",
   "mimetype": "text/x-python",
   "name": "python",
   "nbconvert_exporter": "python",
   "pygments_lexer": "ipython3",
   "version": "3.10.6"
  },
  "orig_nbformat": 4
 },
 "nbformat": 4,
 "nbformat_minor": 2
}
