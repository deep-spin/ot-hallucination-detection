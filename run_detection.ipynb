{
 "cells": [
  {
   "cell_type": "code",
   "execution_count": null,
   "metadata": {},
   "outputs": [],
   "source": [
    "import numpy as np\n",
    "import pandas as pd\n",
    "import random"
   ]
  },
  {
   "attachments": {},
   "cell_type": "markdown",
   "metadata": {},
   "source": [
    "# Creation of a synthetic example"
   ]
  },
  {
   "cell_type": "code",
   "execution_count": null,
   "metadata": {},
   "outputs": [],
   "source": [
    "def create_synthetic_attention_data_varying_lengths(num_samples, target_range, source_range):\n",
    "    data = []\n",
    "    for _ in range(num_samples):\n",
    "        target_len = random.randint(*target_range)\n",
    "        source_len = random.randint(*source_range)\n",
    "        attn_matrix = np.random.rand(target_len, source_len)\n",
    "        attn_matrix /= attn_matrix.sum()\n",
    "        mt_len = target_len\n",
    "        data.append({\"idx\": len(data), \"attn\": attn_matrix, \"mt_len\": mt_len})\n",
    "    return pd.DataFrame(data)\n",
    "\n",
    "dataset_stats = create_synthetic_attention_data_varying_lengths(1000, (10, 30), (10, 30))\n",
    "dataset_reference_stats = create_synthetic_attention_data_varying_lengths(100000, (10, 30), (10, 30))\n",
    "\n",
    "# Save the datasets to files\n",
    "dataset_stats.to_pickle(\"dataset_stats_varying_lengths.pkl\")\n",
    "dataset_reference_stats.to_pickle(\"dataset_reference_stats_varying_lengths.pkl\")"
   ]
  },
  {
   "cell_type": "code",
   "execution_count": null,
   "metadata": {},
   "outputs": [],
   "source": [
    "from utils import wass_dist_computation\n",
    "import argparse\n",
    "\n",
    "args = argparse.Namespace(\n",
    "    dataset_stats_path=\"dataset_stats_varying_lengths.pkl\",\n",
    "    dataset_reference_stats_path=\"dataset_reference_stats_varying_lengths.pkl\",\n",
    "    metric_space=\"uni\",\n",
    "    length_window=10.0,\n",
    "    compare_to_uni=True,\n",
    "    no_samples=100,\n",
    "    bottom_k=4,\n",
    "    seed=38\n",
    ")\n",
    "\n",
    "dataset_stats = pd.read_pickle(args.dataset_stats_path)\n",
    "dataset_reference_stats = pd.read_pickle(args.dataset_reference_stats_path)\n",
    "\n",
    "wasserstein_distances = wass_dist_computation(dataset_stats, dataset_reference_stats, args)\n",
    "# for wass-to-data (compare_to_uni=False), the shape of wasserstein_distances should be [len(dataset_stats), no_samples]; you can aggregate via bottom-k\n",
    "# e.g., wasserstein_distances = [np.mean(sorted(x_samp)[:args.bottom_k]) for x_samp in wasserstein_distances]\n",
    "\n",
    "# for wass-to-uni (compare_to_uni=True), the shape of wasserstein_distances should be [len(dataset_stats)]. No need to aggregate."
   ]
  },
  {
   "attachments": {},
   "cell_type": "markdown",
   "metadata": {},
   "source": [
    "# Replicate our results"
   ]
  },
  {
   "cell_type": "code",
   "execution_count": null,
   "metadata": {},
   "outputs": [],
   "source": [
    "dataset_stats = pd.read_pickle(\"/home/nunomg/ot-hallucination-detection/hallucinations_deen_w_stats_and_scores.pkl\")\n",
    "dataset_attn_reference = pd.read_pickle(\"/home/nunomg/ot-hallucination-detection/reference_set_deen.pkl\")\n"
   ]
  },
  {
   "cell_type": "code",
   "execution_count": null,
   "metadata": {},
   "outputs": [],
   "source": [
    "# Replicate Wass-to-Data\n",
    "args = argparse.Namespace(\n",
    "    dataset_stats_path=\"dataset_stats_varying_lengths.pkl\",\n",
    "    dataset_reference_stats_path=\"dataset_reference_stats_varying_lengths.pkl\",\n",
    "    metric_space=\"l1\",\n",
    "    length_window=10.0,\n",
    "    compare_to_uni=False,\n",
    "    no_samples=1000,\n",
    "    bottom_k=4,\n",
    "    seed=38\n",
    ")\n",
    "\n",
    "# Replicate Wass-to-Uni\n",
    "args = argparse.Namespace(\n",
    "    dataset_stats_path=\"dataset_stats_varying_lengths.pkl\",\n",
    "    dataset_reference_stats_path=\"dataset_reference_stats_varying_lengths.pkl\",\n",
    "    metric_space=\"uni\",\n",
    "    length_window=10.0,\n",
    "    compare_to_uni=False,\n",
    "    no_samples=1000,\n",
    "    bottom_k=4,\n",
    "    seed=38\n",
    ")    \n",
    "\n",
    "wasserstein_distances = wass_dist_computation(dataset_stats, dataset_attn_reference, args)\n",
    "# compute metrics \n",
    "from utils import compute_detection_metrics_wass\n",
    "dataset_stats[\"wass_dist\"] = wasserstein_distances\n",
    "auroc_metrics = compute_detection_metrics_wass(wasserstein_distances=wasserstein_distances, dataset_stats=dataset_stats, args=args, bottom_k=args.bottom_k) # compute detection metrics"
   ]
  }
 ],
 "metadata": {
  "kernelspec": {
   "display_name": "hall-env",
   "language": "python",
   "name": "hall-env"
  },
  "language_info": {
   "codemirror_mode": {
    "name": "ipython",
    "version": 3
   },
   "file_extension": ".py",
   "mimetype": "text/x-python",
   "name": "python",
   "nbconvert_exporter": "python",
   "pygments_lexer": "ipython3",
   "version": "3.8.10"
  },
  "orig_nbformat": 4
 },
 "nbformat": 4,
 "nbformat_minor": 2
}
